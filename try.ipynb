{
 "cells": [
  {
   "cell_type": "code",
   "execution_count": null,
   "id": "98f9733c",
   "metadata": {},
   "outputs": [],
   "source": [
    "from artseek.method.generate.pipe import build_graph\n",
    "from PIL import Image\n"
   ]
  },
  {
   "cell_type": "code",
   "execution_count": null,
   "id": "a7a1e3ff",
   "metadata": {},
   "outputs": [],
   "source": [
    "graph = build_graph(classify=True, retrieve=True)"
   ]
  },
  {
   "cell_type": "code",
   "execution_count": null,
   "id": "b80c5cec",
   "metadata": {},
   "outputs": [],
   "source": [
    "image_path = \"Input your image path here\"\n",
    "query_text = \"Input your query text here\""
   ]
  },
  {
   "cell_type": "code",
   "execution_count": null,
   "id": "b0716b64",
   "metadata": {},
   "outputs": [],
   "source": [
    "image = Image.open(image_path)\n",
    "image"
   ]
  },
  {
   "cell_type": "code",
   "execution_count": null,
   "id": "1b0a7502",
   "metadata": {},
   "outputs": [],
   "source": [
    "response = graph.invoke(\n",
    "    {\n",
    "        \"input_image\": image,\n",
    "        \"messages\": [\n",
    "            {\n",
    "                \"role\": \"user\",\n",
    "                \"content\": [\n",
    "                    {\"type\": \"text\", \"text\": \"# Current query image\\n\"},\n",
    "                    {\"type\": \"image\"},\n",
    "                    {\n",
    "                        \"type\": \"text\",\n",
    "                        \"text\": f\"\\n# Query\\n{query_text}\",\n",
    "                    },\n",
    "                ],\n",
    "            },\n",
    "        ],\n",
    "    },\n",
    "    {\"recursion_limit\": 50},\n",
    ")"
   ]
  },
  {
   "cell_type": "code",
   "execution_count": null,
   "id": "4a65ce7f",
   "metadata": {},
   "outputs": [],
   "source": [
    "response"
   ]
  }
 ],
 "metadata": {
  "kernelspec": {
   "display_name": "llavart",
   "language": "python",
   "name": "python3"
  },
  "language_info": {
   "codemirror_mode": {
    "name": "ipython",
    "version": 3
   },
   "file_extension": ".py",
   "mimetype": "text/x-python",
   "name": "python",
   "nbconvert_exporter": "python",
   "pygments_lexer": "ipython3",
   "version": "3.12.6"
  }
 },
 "nbformat": 4,
 "nbformat_minor": 5
}
