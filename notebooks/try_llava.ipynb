{
 "cells": [
  {
   "cell_type": "code",
   "execution_count": 3,
   "metadata": {},
   "outputs": [
    {
     "name": "stderr",
     "output_type": "stream",
     "text": [
      "Special tokens have been added in the vocabulary, make sure the associated word embeddings are fine-tuned or trained.\n",
      "Loading checkpoint shards: 100%|██████████| 4/4 [00:00<00:00,  8.44it/s]\n"
     ]
    }
   ],
   "source": [
    "from transformers import LlavaNextProcessor, LlavaNextForConditionalGeneration, CLIPProcessor, CLIPModel\n",
    "import torch\n",
    "from PIL import Image\n",
    "import requests\n",
    "\n",
    "processor = LlavaNextProcessor.from_pretrained(\"llava-hf/llava-v1.6-mistral-7b-hf\")\n",
    "\n",
    "model = LlavaNextForConditionalGeneration.from_pretrained(\"llava-hf/llava-v1.6-mistral-7b-hf\", torch_dtype=torch.float16, low_cpu_mem_usage=True)"
   ]
  },
  {
   "cell_type": "code",
   "execution_count": 2,
   "metadata": {},
   "outputs": [
    {
     "data": {
      "text/plain": [
       "CLIPVisionModel(\n",
       "  (vision_model): CLIPVisionTransformer(\n",
       "    (embeddings): CLIPVisionEmbeddings(\n",
       "      (patch_embedding): Conv2d(3, 1024, kernel_size=(14, 14), stride=(14, 14), bias=False)\n",
       "      (position_embedding): Embedding(577, 1024)\n",
       "    )\n",
       "    (pre_layrnorm): LayerNorm((1024,), eps=1e-05, elementwise_affine=True)\n",
       "    (encoder): CLIPEncoder(\n",
       "      (layers): ModuleList(\n",
       "        (0-23): 24 x CLIPEncoderLayer(\n",
       "          (self_attn): CLIPAttention(\n",
       "            (k_proj): Linear(in_features=1024, out_features=1024, bias=True)\n",
       "            (v_proj): Linear(in_features=1024, out_features=1024, bias=True)\n",
       "            (q_proj): Linear(in_features=1024, out_features=1024, bias=True)\n",
       "            (out_proj): Linear(in_features=1024, out_features=1024, bias=True)\n",
       "          )\n",
       "          (layer_norm1): LayerNorm((1024,), eps=1e-05, elementwise_affine=True)\n",
       "          (mlp): CLIPMLP(\n",
       "            (activation_fn): QuickGELUActivation()\n",
       "            (fc1): Linear(in_features=1024, out_features=4096, bias=True)\n",
       "            (fc2): Linear(in_features=4096, out_features=1024, bias=True)\n",
       "          )\n",
       "          (layer_norm2): LayerNorm((1024,), eps=1e-05, elementwise_affine=True)\n",
       "        )\n",
       "      )\n",
       "    )\n",
       "    (post_layernorm): LayerNorm((1024,), eps=1e-05, elementwise_affine=True)\n",
       "  )\n",
       ")"
      ]
     },
     "execution_count": 2,
     "metadata": {},
     "output_type": "execute_result"
    }
   ],
   "source": [
    "model.vision_tower"
   ]
  },
  {
   "cell_type": "code",
   "execution_count": 5,
   "metadata": {},
   "outputs": [
    {
     "data": {
      "text/plain": [
       "CLIPVisionTransformer(\n",
       "  (embeddings): CLIPVisionEmbeddings(\n",
       "    (patch_embedding): Conv2d(3, 1024, kernel_size=(14, 14), stride=(14, 14), bias=False)\n",
       "    (position_embedding): Embedding(577, 1024)\n",
       "  )\n",
       "  (pre_layrnorm): LayerNorm((1024,), eps=1e-05, elementwise_affine=True)\n",
       "  (encoder): CLIPEncoder(\n",
       "    (layers): ModuleList(\n",
       "      (0-23): 24 x CLIPEncoderLayer(\n",
       "        (self_attn): CLIPAttention(\n",
       "          (k_proj): Linear(in_features=1024, out_features=1024, bias=True)\n",
       "          (v_proj): Linear(in_features=1024, out_features=1024, bias=True)\n",
       "          (q_proj): Linear(in_features=1024, out_features=1024, bias=True)\n",
       "          (out_proj): Linear(in_features=1024, out_features=1024, bias=True)\n",
       "        )\n",
       "        (layer_norm1): LayerNorm((1024,), eps=1e-05, elementwise_affine=True)\n",
       "        (mlp): CLIPMLP(\n",
       "          (activation_fn): QuickGELUActivation()\n",
       "          (fc1): Linear(in_features=1024, out_features=4096, bias=True)\n",
       "          (fc2): Linear(in_features=4096, out_features=1024, bias=True)\n",
       "        )\n",
       "        (layer_norm2): LayerNorm((1024,), eps=1e-05, elementwise_affine=True)\n",
       "      )\n",
       "    )\n",
       "  )\n",
       "  (post_layernorm): LayerNorm((1024,), eps=1e-05, elementwise_affine=True)\n",
       ")"
      ]
     },
     "execution_count": 5,
     "metadata": {},
     "output_type": "execute_result"
    }
   ],
   "source": [
    "clip_model = CLIPModel.from_pretrained(\"openai/clip-vit-large-patch14-336\")\n",
    "clip_model.vision_model"
   ]
  },
  {
   "cell_type": "code",
   "execution_count": 6,
   "metadata": {},
   "outputs": [],
   "source": [
    "import lovely_tensors as lt\n",
    "lt.monkey_patch()"
   ]
  },
  {
   "cell_type": "code",
   "execution_count": 15,
   "metadata": {},
   "outputs": [
    {
     "data": {
      "text/plain": [
       "CLIPVisionTransformer(\n",
       "  (embeddings): CLIPVisionEmbeddings(\n",
       "    (patch_embedding): Conv2d(3, 1024, kernel_size=(14, 14), stride=(14, 14), bias=False)\n",
       "    (position_embedding): Embedding(577, 1024)\n",
       "  )\n",
       "  (pre_layrnorm): LayerNorm((1024,), eps=1e-05, elementwise_affine=True)\n",
       "  (encoder): CLIPEncoder(\n",
       "    (layers): ModuleList(\n",
       "      (0-23): 24 x CLIPEncoderLayer(\n",
       "        (self_attn): CLIPAttention(\n",
       "          (k_proj): Linear(in_features=1024, out_features=1024, bias=True)\n",
       "          (v_proj): Linear(in_features=1024, out_features=1024, bias=True)\n",
       "          (q_proj): Linear(in_features=1024, out_features=1024, bias=True)\n",
       "          (out_proj): Linear(in_features=1024, out_features=1024, bias=True)\n",
       "        )\n",
       "        (layer_norm1): LayerNorm((1024,), eps=1e-05, elementwise_affine=True)\n",
       "        (mlp): CLIPMLP(\n",
       "          (activation_fn): QuickGELUActivation()\n",
       "          (fc1): Linear(in_features=1024, out_features=4096, bias=True)\n",
       "          (fc2): Linear(in_features=4096, out_features=1024, bias=True)\n",
       "        )\n",
       "        (layer_norm2): LayerNorm((1024,), eps=1e-05, elementwise_affine=True)\n",
       "      )\n",
       "    )\n",
       "  )\n",
       "  (post_layernorm): LayerNorm((1024,), eps=1e-05, elementwise_affine=True)\n",
       ")"
      ]
     },
     "execution_count": 15,
     "metadata": {},
     "output_type": "execute_result"
    }
   ],
   "source": [
    "zm = clip_model.vision_model.to(dtype=torch.float16)\n",
    "zm"
   ]
  },
  {
   "cell_type": "code",
   "execution_count": 17,
   "metadata": {},
   "outputs": [
    {
     "data": {
      "text/plain": [
       "CLIPVisionTransformer(\n",
       "  (embeddings): CLIPVisionEmbeddings(\n",
       "    (patch_embedding): Conv2d(3, 1024, kernel_size=(14, 14), stride=(14, 14), bias=False)\n",
       "    (position_embedding): Embedding(577, 1024)\n",
       "  )\n",
       "  (pre_layrnorm): LayerNorm((1024,), eps=1e-05, elementwise_affine=True)\n",
       "  (encoder): CLIPEncoder(\n",
       "    (layers): ModuleList(\n",
       "      (0-23): 24 x CLIPEncoderLayer(\n",
       "        (self_attn): CLIPAttention(\n",
       "          (k_proj): Linear(in_features=1024, out_features=1024, bias=True)\n",
       "          (v_proj): Linear(in_features=1024, out_features=1024, bias=True)\n",
       "          (q_proj): Linear(in_features=1024, out_features=1024, bias=True)\n",
       "          (out_proj): Linear(in_features=1024, out_features=1024, bias=True)\n",
       "        )\n",
       "        (layer_norm1): LayerNorm((1024,), eps=1e-05, elementwise_affine=True)\n",
       "        (mlp): CLIPMLP(\n",
       "          (activation_fn): QuickGELUActivation()\n",
       "          (fc1): Linear(in_features=1024, out_features=4096, bias=True)\n",
       "          (fc2): Linear(in_features=4096, out_features=1024, bias=True)\n",
       "        )\n",
       "        (layer_norm2): LayerNorm((1024,), eps=1e-05, elementwise_affine=True)\n",
       "      )\n",
       "    )\n",
       "  )\n",
       "  (post_layernorm): LayerNorm((1024,), eps=1e-05, elementwise_affine=True)\n",
       ")"
      ]
     },
     "execution_count": 17,
     "metadata": {},
     "output_type": "execute_result"
    }
   ],
   "source": [
    "model.vision_tower.vision_model"
   ]
  },
  {
   "cell_type": "code",
   "execution_count": 28,
   "metadata": {},
   "outputs": [
    {
     "name": "stdout",
     "output_type": "stream",
     "text": [
      "110\n",
      "Parameter containing:\n",
      "Parameter[1024] f16 2Kb x∈[-1.825, 5.012] μ=0.001 σ=0.237 grad\n",
      "Parameter containing:\n",
      "Parameter[1024] f16 2Kb x∈[-1.828, 5.000] μ=0.001 σ=0.237 grad\n",
      "180\n",
      "Parameter containing:\n",
      "Parameter[1024] f16 2Kb x∈[-4.453, 1.655] μ=-0.025 σ=0.283 grad\n",
      "Parameter containing:\n",
      "Parameter[1024] f16 2Kb x∈[-4.438, 1.656] μ=-0.025 σ=0.283 grad\n",
      "196\n",
      "Parameter containing:\n",
      "Parameter[1024] f16 2Kb x∈[-5.793, 1.517] μ=-0.028 σ=0.317 grad\n",
      "Parameter containing:\n",
      "Parameter[1024] f16 2Kb x∈[-5.781, 1.516] μ=-0.028 σ=0.317 grad\n",
      "262\n",
      "Parameter containing:\n",
      "Parameter[1024] f16 2Kb x∈[-4.387, 4.863] μ=0.013 σ=0.493 grad\n",
      "Parameter containing:\n",
      "Parameter[1024] f16 2Kb x∈[-4.375, 4.875] μ=0.013 σ=0.493 grad\n",
      "294\n",
      "Parameter containing:\n",
      "Parameter[1024] f16 2Kb x∈[-6.293, 11.375] μ=-0.014 σ=1.055 grad\n",
      "Parameter containing:\n",
      "Parameter[1024] f16 2Kb x∈[-6.281, 11.375] μ=-0.014 σ=1.055 grad\n",
      "310\n",
      "Parameter containing:\n",
      "Parameter[1024] f16 2Kb x∈[-4.762, 5.621] μ=-0.014 σ=0.489 grad\n",
      "Parameter containing:\n",
      "Parameter[1024] f16 2Kb x∈[-4.750, 5.625] μ=-0.014 σ=0.489 grad\n",
      "342\n",
      "Parameter containing:\n",
      "Parameter[1024] f16 2Kb x∈[-9.055, 12.125] μ=-0.027 σ=1.796 grad\n",
      "Parameter containing:\n",
      "Parameter[1024] f16 2Kb x∈[-9.062, 12.125] μ=-0.027 σ=1.796 grad\n",
      "358\n",
      "Parameter containing:\n",
      "Parameter[1024] f16 2Kb x∈[-19.703, 19.109] μ=-0.167 σ=5.578 grad\n",
      "Parameter containing:\n",
      "Parameter[1024] f16 2Kb x∈[-19.750, 19.125] μ=-0.166 σ=5.578 grad\n",
      "370\n",
      "Parameter containing:\n",
      "Parameter[1024] f16 2Kb x∈[-0.879, 4.797] μ=-0.001 σ=0.197 grad\n",
      "Parameter containing:\n",
      "Parameter[1024] f16 2Kb x∈[-0.879, 4.812] μ=-0.001 σ=0.197 grad\n",
      "372\n",
      "Parameter containing:\n",
      "Parameter[1024] f16 2Kb x∈[-1.976, 4.230] μ=0.055 σ=0.393 grad\n",
      "Parameter containing:\n",
      "Parameter[1024] f16 2Kb x∈[-1.977, 4.219] μ=0.055 σ=0.392 grad\n"
     ]
    }
   ],
   "source": [
    "# check if zm and model.vision_tower.vision_model have the same weights\n",
    "for i, (p1, p2) in enumerate(zip(zm.parameters(), model.vision_tower.vision_model.parameters())):\n",
    "    if not torch.allclose(p1, p2, rtol=1e-4, atol=1e-2):\n",
    "        print(i)\n",
    "        print(p1)\n",
    "        print(p2)"
   ]
  }
 ],
 "metadata": {
  "kernelspec": {
   "display_name": "vitart",
   "language": "python",
   "name": "python3"
  },
  "language_info": {
   "codemirror_mode": {
    "name": "ipython",
    "version": 3
   },
   "file_extension": ".py",
   "mimetype": "text/x-python",
   "name": "python",
   "nbconvert_exporter": "python",
   "pygments_lexer": "ipython3",
   "version": "3.1.undefined"
  }
 },
 "nbformat": 4,
 "nbformat_minor": 2
}
