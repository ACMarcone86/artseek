{
 "cells": [
  {
   "cell_type": "code",
   "execution_count": 3,
   "metadata": {},
   "outputs": [],
   "source": [
    "import sys\n",
    "sys.path.append(\"..\")"
   ]
  },
  {
   "cell_type": "code",
   "execution_count": 4,
   "metadata": {},
   "outputs": [],
   "source": [
    "import torch\n",
    "from pykeen.models import TransE\n",
    "from pykeen.triples import TriplesFactory\n",
    "from llavart.utils.dirutils import get_data_dir, get_model_checkpoints_dir\n",
    "from llavart.models.graph_retriever.modeling import get_kge_model\n",
    "from langchain_community.graphs import Neo4jGraph\n",
    "import os\n",
    "from tqdm import tqdm\n",
    "from safetensors.torch import load_file, save_file\n",
    "import lovely_tensors as lt\n",
    "\n",
    "lt.monkey_patch()"
   ]
  },
  {
   "cell_type": "code",
   "execution_count": 8,
   "metadata": {},
   "outputs": [
    {
     "name": "stderr",
     "output_type": "stream",
     "text": [
      "No random seed is specified. This may lead to non-reproducible results.\n"
     ]
    },
    {
     "data": {
      "text/plain": [
       "TransE(\n",
       "  (loss): MarginRankingLoss(\n",
       "    (margin_activation): ReLU()\n",
       "  )\n",
       "  (interaction): TransEInteraction()\n",
       "  (entity_representations): ModuleList(\n",
       "    (0): Embedding(\n",
       "      (_embeddings): Embedding(117147, 768)\n",
       "    )\n",
       "  )\n",
       "  (relation_representations): ModuleList(\n",
       "    (0): Embedding(\n",
       "      (_embeddings): Embedding(17, 768)\n",
       "    )\n",
       "  )\n",
       "  (weight_regularizers): ModuleList()\n",
       ")"
      ]
     },
     "execution_count": 8,
     "metadata": {},
     "output_type": "execute_result"
    }
   ],
   "source": [
    "tf = TriplesFactory.from_path(get_data_dir() / \"graph\" / \"graph.tsv\")\n",
    "training, testing, validation = tf.split([.8, .1, .1], random_state=42)\n",
    "model = get_kge_model(\"TransE\", training, embs_init_path=get_model_checkpoints_dir() / \"graph_retriever\" / \"init\" / \"TransE.safetensors\", model_kwargs={\"embedding_dim\": 768})\n",
    "model"
   ]
  },
  {
   "cell_type": "code",
   "execution_count": null,
   "metadata": {},
   "outputs": [],
   "source": [
    "graph = Neo4jGraph()\n",
    "graph"
   ]
  },
  {
   "cell_type": "code",
   "execution_count": null,
   "metadata": {},
   "outputs": [],
   "source": [
    "query = \"\"\"\n",
    "MATCH (a: Artwork)\n",
    "RETURN ID(a) as id, a.name as name\n",
    "ORDER BY id\n",
    "\"\"\"\n",
    "result = graph.query(query)\n",
    "artworks_id2name = {r[\"id\"]: r[\"name\"] for r in result}"
   ]
  },
  {
   "cell_type": "code",
   "execution_count": null,
   "metadata": {},
   "outputs": [],
   "source": [
    "artwork_embeddings = load_file(get_data_dir() / \"images-hd_features.safetensors\")[\"features\"]"
   ]
  },
  {
   "cell_type": "code",
   "execution_count": null,
   "metadata": {},
   "outputs": [],
   "source": [
    "keys = list(artworks_id2name.keys())\n",
    "keys = [str(k) for k in keys]"
   ]
  },
  {
   "cell_type": "code",
   "execution_count": null,
   "metadata": {},
   "outputs": [],
   "source": [
    "indexes = []\n",
    "og_indexes = []\n",
    "for i, k in enumerate(keys):\n",
    "    try:\n",
    "        indexes.append(tf.entities_to_ids([k])[0])\n",
    "        og_indexes.append(i)\n",
    "    except:\n",
    "        pass"
   ]
  },
  {
   "cell_type": "code",
   "execution_count": null,
   "metadata": {},
   "outputs": [],
   "source": [
    "embeddings = model.entity_representations[0]._embeddings"
   ]
  },
  {
   "cell_type": "code",
   "execution_count": null,
   "metadata": {},
   "outputs": [],
   "source": [
    "# set the embeddings\n",
    "embs = embeddings.weight.detach()\n",
    "embs"
   ]
  },
  {
   "cell_type": "code",
   "execution_count": null,
   "metadata": {},
   "outputs": [],
   "source": [
    "artwork_embeddings[og_indexes]"
   ]
  },
  {
   "cell_type": "code",
   "execution_count": null,
   "metadata": {},
   "outputs": [],
   "source": [
    "embs[indexes] = artwork_embeddings[og_indexes]\n",
    "embs"
   ]
  },
  {
   "cell_type": "code",
   "execution_count": null,
   "metadata": {},
   "outputs": [],
   "source": [
    "model.state_dict()"
   ]
  },
  {
   "cell_type": "code",
   "execution_count": null,
   "metadata": {},
   "outputs": [],
   "source": [
    "# get class name of model TransE\n",
    "save_file({\"entity_representations.0._embeddings.weight\": embs}, get_model_checkpoints_dir() / \"graph_retriever\" / \"init\" / f\"{model.__class__.__name__}.safetensors\")"
   ]
  },
  {
   "cell_type": "code",
   "execution_count": null,
   "metadata": {},
   "outputs": [],
   "source": [
    "model.load_state_dict(load_file(get_model_checkpoints_dir() / \"graph_retriever\" / \"init\" / f\"{model.__class__.__name__}.safetensors\"), strict=False)"
   ]
  }
 ],
 "metadata": {
  "kernelspec": {
   "display_name": "vitart",
   "language": "python",
   "name": "python3"
  },
  "language_info": {
   "codemirror_mode": {
    "name": "ipython",
    "version": 3
   },
   "file_extension": ".py",
   "mimetype": "text/x-python",
   "name": "python",
   "nbconvert_exporter": "python",
   "pygments_lexer": "ipython3",
   "version": "3.11.8"
  }
 },
 "nbformat": 4,
 "nbformat_minor": 2
}
