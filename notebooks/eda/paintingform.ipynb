{
 "cells": [
  {
   "cell_type": "code",
   "execution_count": 1,
   "metadata": {},
   "outputs": [
    {
     "name": "stderr",
     "output_type": "stream",
     "text": [
      "/leonardo_scratch/fast/IscrC_MOSES/nicola/miniconda3/envs/llavart/lib/python3.12/site-packages/tqdm/auto.py:21: TqdmWarning: IProgress not found. Please update jupyter and ipywidgets. See https://ipywidgets.readthedocs.io/en/stable/user_install.html\n",
      "  from .autonotebook import tqdm as notebook_tqdm\n"
     ]
    }
   ],
   "source": [
    "from datasets import load_dataset\n",
    "import sys\n",
    "import os\n",
    "from pathlib import Path\n",
    "import json\n",
    "sys.path.append(str(Path.cwd().parent.parent))\n",
    "from artseek.utils.dirutils import get_project_dir, get_data_dir\n",
    "from artseek.data.datasets.painting_form import PaintingFormDataset"
   ]
  },
  {
   "cell_type": "code",
   "execution_count": 7,
   "metadata": {},
   "outputs": [
    {
     "data": {
      "text/plain": [
       "<artseek.data.datasets.painting_form.PaintingFormDataset at 0x7f1d697a7d40>"
      ]
     },
     "execution_count": 7,
     "metadata": {},
     "output_type": "execute_result"
    }
   ],
   "source": [
    "dataset = PaintingFormDataset(get_data_dir() / \"external\" / \"painting_form\", split=\"test\")\n",
    "dataset"
   ]
  },
  {
   "cell_type": "code",
   "execution_count": 9,
   "metadata": {},
   "outputs": [
    {
     "data": {
      "text/plain": [
       "{'image': <PIL.Image.Image image mode=RGB size=700x700>,\n",
       " 'formal_analysis_gemini': \"The artwork presents a captivating study of a youthful countenance, rendered with exquisite precision and sensitivity. The subject's head is slightly tilted, revealing a gentle smile that plays across their lips. The artist's masterful use of sfumato creates a subtle transition between light and shadow, capturing the delicate contours of the face and the soft, youthful skin. The eyes, rendered with a keen attention to detail, convey a sense of introspection and quiet contemplation. The hair, depicted with fine, flowing lines, frames the face and adds a touch of movement and vitality to the composition. The overall effect is one of remarkable realism and emotional depth, showcasing the artist's exceptional skill in capturing the nuances of human expression.\",\n",
       " 'formal_analysis_gpt': \"This portrait exudes a sense of vitality and emotion through its masterful execution of form and expression. The subject's face is rendered with a remarkable level of detail, capturing the subtle nuances of the youth's features. The artist skillfully employs light and shadow to create a sense of depth and dimensionality, particularly evident in the play of light on the subject's forehead and cheeks. The use of chiaroscuro adds a sense of drama to the composition, emphasizing the contours of the face and enhancing the overall realism of the portrait. The artist's precise handling of line work is evident in the intricate rendering of the youth's hair and the delicate contours of the face. The expression captured on the subject's face is one of joy and innocence, conveyed through the subtle curvature of the lips and the gentle arch of the eyebrows. The artist's attention to detail and ability to convey emotion through facial expression make this portrait a compelling study of human character and emotion.\"}"
      ]
     },
     "execution_count": 9,
     "metadata": {},
     "output_type": "execute_result"
    }
   ],
   "source": [
    "dataset[1]"
   ]
  },
  {
   "cell_type": "code",
   "execution_count": 10,
   "metadata": {},
   "outputs": [
    {
     "data": {
      "text/plain": [
       "5000"
      ]
     },
     "execution_count": 10,
     "metadata": {},
     "output_type": "execute_result"
    }
   ],
   "source": [
    "len(dataset)"
   ]
  }
 ],
 "metadata": {
  "kernelspec": {
   "display_name": "llavart",
   "language": "python",
   "name": "python3"
  },
  "language_info": {
   "codemirror_mode": {
    "name": "ipython",
    "version": 3
   },
   "file_extension": ".py",
   "mimetype": "text/x-python",
   "name": "python",
   "nbconvert_exporter": "python",
   "pygments_lexer": "ipython3",
   "version": "3.12.6"
  }
 },
 "nbformat": 4,
 "nbformat_minor": 2
}
