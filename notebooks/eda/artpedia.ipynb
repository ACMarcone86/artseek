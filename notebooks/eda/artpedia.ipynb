{
 "cells": [
  {
   "cell_type": "code",
   "execution_count": 2,
   "metadata": {},
   "outputs": [],
   "source": [
    "import sys\n",
    "sys.path.append(\"../..\")"
   ]
  },
  {
   "cell_type": "code",
   "execution_count": 6,
   "metadata": {},
   "outputs": [],
   "source": [
    "from artseek.data.datasets.artpedia import ArtpediaDataset"
   ]
  },
  {
   "cell_type": "code",
   "execution_count": 7,
   "metadata": {},
   "outputs": [
    {
     "name": "stderr",
     "output_type": "stream",
     "text": [
      "Processing annotations:   0%|          | 0/2930 [00:00<?, ?it/s]"
     ]
    },
    {
     "name": "stderr",
     "output_type": "stream",
     "text": [
      "Processing annotations: 100%|██████████| 2930/2930 [00:00<00:00, 3976.60it/s]\n"
     ]
    }
   ],
   "source": [
    "ds = ArtpediaDataset(\"../../data/external/artpedia\", split=\"test\")"
   ]
  },
  {
   "cell_type": "code",
   "execution_count": 10,
   "metadata": {},
   "outputs": [
    {
     "data": {
      "text/plain": [
       "{'title': 'San Pietro Martire Triptych',\n",
       " 'img_url': 'https://upload.wikimedia.org/wikipedia/commons/6/60/Angelico%2C_pala_di_san_pier_maggiore%2C_1425_ca..jpg',\n",
       " 'year': 1420,\n",
       " 'visual_sentences': ['In the center of the work is a Maestà (Madonna Enthroned with Child) and, at the sides, are the Saints Dominic, John the Baptist, Peter of Verona, and Thomas Aquinas.',\n",
       "  'In the cusps are lobed tondoes with the Annunciation Angel, the Annunciation and, in the center, Blessing Christ.',\n",
       "  'Between the cusps are scenes of the life of St. Peter of Verona (Predication and Martyrdom).',\n",
       "  'The Madonna sits on a brocaded seat, with the Child standing on her knees.',\n",
       "  \"She is holding an ampulla, a reference to Mary Magdalene's ampulla and thus to Jesus' passion.\",\n",
       "  'The Child wears a tunic with rich golden decoration.',\n",
       "  'His hand holds a globe, a symbol of his power, while the other hands is raised in a blessing gesture.'],\n",
       " 'contextual_sentences': ['The St. Peter of Verona Triptych (Italian: Trittico di San Pietro Martire) is a painting by the Italian early Renaissance master Fra Angelico, executed around 1428-1429.',\n",
       "  'It is  housed in the National Museum of San Marco, Florence, region of Tuscany, Italy.',\n",
       "  \"The relative lack of decoration, compared to Angelico's earlier Fiesole Altarpiece (1424-1425), which was still heavily based on Gentile da Fabriano's style, show the growing influence of Masaccio and a more realistic approach.\"],\n",
       " 'split': 'test',\n",
       " 'id': '346',\n",
       " 'img': '346.jpg',\n",
       " 'image': <PIL.Image.Image image mode=RGB size=1032x920>,\n",
       " 'content': ['In the center of the work is a Maestà (Madonna Enthroned with Child) and, at the sides, are the Saints Dominic, John the Baptist, Peter of Verona, and Thomas Aquinas.',\n",
       "  'In the cusps are lobed tondoes with the Annunciation Angel, the Annunciation and, in the center, Blessing Christ.',\n",
       "  'Between the cusps are scenes of the life of St. Peter of Verona (Predication and Martyrdom).',\n",
       "  'The Madonna sits on a brocaded seat, with the Child standing on her knees.',\n",
       "  \"She is holding an ampulla, a reference to Mary Magdalene's ampulla and thus to Jesus' passion.\",\n",
       "  'The Child wears a tunic with rich golden decoration.',\n",
       "  'His hand holds a globe, a symbol of his power, while the other hands is raised in a blessing gesture.'],\n",
       " 'context': ['The St. Peter of Verona Triptych (Italian: Trittico di San Pietro Martire) is a painting by the Italian early Renaissance master Fra Angelico, executed around 1428-1429.',\n",
       "  'It is  housed in the National Museum of San Marco, Florence, region of Tuscany, Italy.',\n",
       "  \"The relative lack of decoration, compared to Angelico's earlier Fiesole Altarpiece (1424-1425), which was still heavily based on Gentile da Fabriano's style, show the growing influence of Masaccio and a more realistic approach.\"]}"
      ]
     },
     "execution_count": 10,
     "metadata": {},
     "output_type": "execute_result"
    }
   ],
   "source": [
    "ds[1]"
   ]
  },
  {
   "cell_type": "code",
   "execution_count": 5,
   "metadata": {},
   "outputs": [],
   "source": [
    "cap = \" \".join(ds[0][\"content\"]) + \" \" + \" \".join(ds[0][\"form\"]) + \" \" + \" \".join(ds[0][\"context\"])"
   ]
  },
  {
   "cell_type": "code",
   "execution_count": 7,
   "metadata": {},
   "outputs": [
    {
     "data": {
      "text/plain": [
       "{'description': 'In Gothic times sculptural works in Spain were no more than provincial versions of the current international French style. As Gothic progressed the Flemish influence became paramount. By the sixteenth century Italian artists had exerted their influence. In the earlier part of the century Pietro Torrigiani exercised considerable influence, but perhaps the most impressive of the Italian works were those done for the court at the mid-century by Pompeo Leoni.The frigid and sober naturalism of the kneeling monarchs are subjected to the competition of elaborate decorations of heraldry, embroidery, cut velvets, tassels, jewels, armour',\n",
       " 'content': ['In the earlier part of the century Pietro Torrigiani exercised considerable influence, but perhaps the most impressive of the Italian works were those done for the court at the mid-century by Pompeo Leoni.The frigid and sober naturalism of the kneeling monarchs are subjected to the competition of elaborate decorations of heraldry, embroidery, cut velvets, tassels, jewels, armour',\n",
       "  'In the earlier part of the century Pietro Torrigiani exercised considerable influence, but perhaps the most impressive of the Italian works were those done for the court at the mid-century by Pompeo Leoni.The frigid and sober naturalism of the kneeling monarchs are subjected to the competition of elaborate decorations of heraldry, embroidery, cut velvets, tassels, jewels, armour',\n",
       "  'In Gothic times sculptural works in Spain were no more than provincial versions of the current international French style.',\n",
       "  'By the sixteenth century Italian artists had exerted their influence.',\n",
       "  'As Gothic progressed the Flemish influence became paramount.'],\n",
       " 'form': [],\n",
       " 'context': ['In Gothic times sculptural works in Spain were no more than provincial versions of the current international French style.',\n",
       "  'By the sixteenth century Italian artists had exerted their influence.',\n",
       "  'As Gothic progressed the Flemish influence became paramount.'],\n",
       " 'image': <PIL.Image.Image image mode=RGB size=618x876>}"
      ]
     },
     "execution_count": 7,
     "metadata": {},
     "output_type": "execute_result"
    }
   ],
   "source": [
    "ds[0]"
   ]
  }
 ],
 "metadata": {
  "kernelspec": {
   "display_name": "llavart",
   "language": "python",
   "name": "python3"
  },
  "language_info": {
   "codemirror_mode": {
    "name": "ipython",
    "version": 3
   },
   "file_extension": ".py",
   "mimetype": "text/x-python",
   "name": "python",
   "nbconvert_exporter": "python",
   "pygments_lexer": "ipython3",
   "version": "3.12.6"
  }
 },
 "nbformat": 4,
 "nbformat_minor": 2
}
